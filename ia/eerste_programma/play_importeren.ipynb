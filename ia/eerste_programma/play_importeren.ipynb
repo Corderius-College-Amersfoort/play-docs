{
 "cells": [
  {
   "cell_type": "raw",
   "id": "57e65569",
   "metadata": {},
   "source": [
    "---\n",
    "sidebar_position: 1\n",
    "---"
   ]
  },
  {
   "cell_type": "markdown",
   "id": "17bf9596",
   "metadata": {},
   "source": [
    "# play importeren\n",
    "\n",
    "Laten we eens kijken of de installatie gelukt is.\n",
    "Kopieer de onderstaande code naar je editor en draai het script."
   ]
  },
  {
   "cell_type": "code",
   "execution_count": null,
   "id": "44b501ce",
   "metadata": {},
   "outputs": [],
   "source": [
    "import play"
   ]
  },
  {
   "cell_type": "markdown",
   "id": "b16b3d7e",
   "metadata": {},
   "source": [
    "Als het goed is, zie je onderaan de volgende tekst:\n",
    "\n",
    "```\n",
    "pygame 2.6.1 (SDL 2.28.4, Python 3.10.11)\n",
    "Hello from the pygame community. https://www.pygame.org/contribute.html\n",
    "```\n",
    "\n",
    "Goed gedaan! Je hebt voor de eerste keer **play** gebruikt :)."
   ]
  }
 ],
 "metadata": {
  "jupytext": {
   "cell_metadata_filter": "-all",
   "main_language": "python",
   "notebook_metadata_filter": "-all"
  }
 },
 "nbformat": 4,
 "nbformat_minor": 5
}
