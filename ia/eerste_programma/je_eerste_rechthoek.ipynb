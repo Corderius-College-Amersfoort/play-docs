{
 "cells": [
  {
   "cell_type": "raw",
   "id": "159f8a8c",
   "metadata": {},
   "source": [
    "---\n",
    "sidebar_position: 4\n",
    "---"
   ]
  },
  {
   "cell_type": "markdown",
   "id": "8a3a01a1",
   "metadata": {},
   "source": [
    "# Je eerste rechthoek\n",
    "\n",
    "We kunnen ook andere vormen tekenen, bijvoorbeeld een rechthoek."
   ]
  },
  {
   "cell_type": "code",
   "execution_count": null,
   "id": "86c22e93",
   "metadata": {},
   "outputs": [],
   "source": [
    "import play\n",
    "\n",
    "play.new_box()\n",
    "\n",
    "play.start_program()"
   ]
  },
  {
   "cell_type": "markdown",
   "id": "c2d8e390",
   "metadata": {},
   "source": [
    "Als het goed is, zie je een rechthoek op je scherm.\n",
    "\n",
    "## Wat kan ik allemaal aanpassen?\n",
    "Net zoals bij **play.new_circle** heeft het programma voor ons nu ook al de kleur en grootte bepaald. Je kunt dit zelf natuurlijk aanpassen!\n",
    "Dit zijn de attributen voor **play.new_box**:\n",
    "- **color**: staat standaard op 'black'. [Op deze pagina](https://www.pygame.org/docs/ref/color_list.html) zie je welke opties er zijn.\n",
    "- **x**: staat standaard op 0 (het midden). Lager dan 0 is naar links, boven 0 is naar rechts.\n",
    "- **y**: staat standaard op 0 (het midden), Lager dan 0 is naar beneden, boven 0 is naar boven.\n",
    "- **width**: de breedte van de rechthoek.\n",
    "- **height**: de hoogte van de rechthoek.\n",
    "- **border_color**: staat standaard op  'light blue'. Let op, als de **border_width** 0 is, zie je de rand niet.\n",
    "- **border_radius**: the breedte van de rand. Staat standaard op 0 (geen rand zichtbaar)\n",
    "- **transparency**: 0 --> onzichtbaar. 100 --> volledig zichtbaar.\n",
    "\n",
    "Om bijvoorbeeld de hoogte en breedte aan te passen kun je het volgende doen:"
   ]
  },
  {
   "cell_type": "code",
   "execution_count": null,
   "id": "455deafa",
   "metadata": {},
   "outputs": [],
   "source": [
    "import play\n",
    "\n",
    "play.new_box(width=200, height=200)\n",
    "\n",
    "play.start_program()"
   ]
  },
  {
   "cell_type": "markdown",
   "id": "10d26d97",
   "metadata": {},
   "source": [
    "## Opdracht X.X een weg tekenen\n",
    "\n",
    "We gaan deze afbeelding namaken met **play.new_box**\n",
    "![weg](weg.png)\n",
    "\n",
    "Maar hoe doen we dat eigenlijk? We helpen je een beetje op gang:"
   ]
  },
  {
   "cell_type": "code",
   "execution_count": null,
   "id": "4c9ef6ba",
   "metadata": {
    "lines_to_next_cell": 0
   },
   "outputs": [],
   "source": [
    "import play\n",
    "\n",
    "# een zwarte achtergrond\n",
    "play.new_box(width=800, height=600)\n",
    "\n",
    "# een eerste wit rechthoek\n",
    "play.new_box(color='white')\n",
    "# PAS DEZE CODE AAN\n",
    "\n",
    "play.start_program()"
   ]
  },
  {
   "cell_type": "markdown",
   "id": "1e763f17",
   "metadata": {},
   "source": [
    "\n",
    "\n",
    "\n",
    "\n"
   ]
  }
 ],
 "metadata": {
  "jupytext": {
   "cell_metadata_filter": "-all",
   "main_language": "python",
   "notebook_metadata_filter": "-all"
  }
 },
 "nbformat": 4,
 "nbformat_minor": 5
}
