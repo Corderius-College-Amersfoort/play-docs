{
 "cells": [
  {
   "cell_type": "raw",
   "id": "9109d420",
   "metadata": {},
   "source": [
    "---\n",
    "sidebar_position: 3\n",
    "---"
   ]
  },
  {
   "cell_type": "markdown",
   "id": "40da8fe3",
   "metadata": {},
   "source": [
    "# Je eerste cirkel\n",
    "\n",
    "Tijd om iets op het scherm te tekenen."
   ]
  },
  {
   "cell_type": "code",
   "execution_count": null,
   "id": "cacb7745",
   "metadata": {},
   "outputs": [],
   "source": [
    "import play\n",
    "\n",
    "play.new_circle()\n",
    "\n",
    "play.start_program()"
   ]
  },
  {
   "cell_type": "markdown",
   "id": "900bc107",
   "metadata": {},
   "source": [
    "Als het goed is, zie je een grote zwarte cirkel op je scherm.\n",
    "Merk op dat we nergens hebben aangegeven:\n",
    "- welke kleur de cirkel moet hebben\n",
    "- hoe groot deze is\n",
    "- ....\n",
    "\n",
    "Dat is toch wel gek. Het programma heeft stiekem voor ons al een paar zaken gekozen.\n",
    "Het is toch wel fijn als we het zelf kunnen veranderen.\n",
    "\n",
    "## De kleur aanpassen\n",
    "We kunnen de kleur aanpassen met het attribuut **color**.\n",
    "Om bijvoorbeeld de cirkel blauw te maken, kun je het volgende doen."
   ]
  },
  {
   "cell_type": "code",
   "execution_count": null,
   "id": "8ef324d0",
   "metadata": {},
   "outputs": [],
   "source": [
    "import play\n",
    "\n",
    "play.new_circle(color='blue')\n",
    "\n",
    "play.start_program()"
   ]
  },
  {
   "cell_type": "markdown",
   "id": "9d7d3698",
   "metadata": {},
   "source": [
    "Ben je benieuwd uit welke kleuren je allemaal kan kiezen? Op [deze pagina](https://www.pygame.org/docs/ref/color_list.html) zie je alle opties.\n",
    "\n",
    "### X.X De kleur aanpassen\n",
    "a) Schrijf een programma waarbij de kleur van de cirkel rood is. "
   ]
  },
  {
   "cell_type": "code",
   "execution_count": null,
   "id": "3ff5c0e1",
   "metadata": {},
   "outputs": [],
   "source": [
    "import play\n",
    "\n",
    "# SCHRIJF HIER JE CODE\n",
    "\n",
    "play.start_progrma()"
   ]
  },
  {
   "cell_type": "markdown",
   "id": "268441b3",
   "metadata": {},
   "source": [
    "b) pas het programma aan met een kleur die je gekozen hebt uit de lijst van alle opties\n"
   ]
  },
  {
   "cell_type": "code",
   "execution_count": null,
   "id": "eef22aaa",
   "metadata": {},
   "outputs": [],
   "source": [
    "import play\n",
    "\n",
    "# SCHRIJF HIER JE CODE\n",
    "\n",
    "play.start_progrma()"
   ]
  },
  {
   "cell_type": "markdown",
   "id": "ee6401c7",
   "metadata": {},
   "source": [
    "## De positie aanpassen\n",
    "Je kunt de cirkel ook op een andere plek zetten. Hiervoor gebruik je de **x** (horizontaal) en **y** (verticaal) attributen.\n",
    "Het midden van het scherm is x=0 en y=0."
   ]
  },
  {
   "cell_type": "code",
   "execution_count": null,
   "id": "8eae2173",
   "metadata": {},
   "outputs": [],
   "source": [
    "import play\n",
    "\n",
    "play.new_circle(x=0, y=0)\n",
    "\n",
    "play.start_program()"
   ]
  },
  {
   "cell_type": "markdown",
   "id": "ecaca187",
   "metadata": {},
   "source": [
    "Zie je de cirkel in het midden staan?\n",
    "\n",
    "### Opdracht X.X: de positie aanpassen\n",
    "\n",
    "Waar zie je cirkel verschijnen bij:\n",
    "\n",
    "a) x=100 en y=0 "
   ]
  },
  {
   "cell_type": "code",
   "execution_count": null,
   "id": "7303b00c",
   "metadata": {},
   "outputs": [],
   "source": [
    "import play\n",
    "\n",
    "# SCHRIJF HIER JE CODE\n",
    "\n",
    "play.start_progrma()"
   ]
  },
  {
   "cell_type": "markdown",
   "id": "604ff985",
   "metadata": {},
   "source": [
    "b) x=-100 en y=0"
   ]
  },
  {
   "cell_type": "code",
   "execution_count": null,
   "id": "4e4b72ca",
   "metadata": {},
   "outputs": [],
   "source": [
    "import play\n",
    "\n",
    "# SCHRIJF HIER JE CODE\n",
    "\n",
    "play.start_progrma()"
   ]
  },
  {
   "cell_type": "markdown",
   "id": "3e6c0ec6",
   "metadata": {},
   "source": [
    "c) x=0 en y=100"
   ]
  },
  {
   "cell_type": "code",
   "execution_count": null,
   "id": "09464377",
   "metadata": {},
   "outputs": [],
   "source": [
    "import play\n",
    "\n",
    "# SCHRIJF HIER JE CODE\n",
    "\n",
    "play.start_progrma()"
   ]
  },
  {
   "cell_type": "markdown",
   "id": "9bc9f5dc",
   "metadata": {},
   "source": [
    "d) x=0 en y=-100"
   ]
  },
  {
   "cell_type": "code",
   "execution_count": null,
   "id": "94b0ad41",
   "metadata": {},
   "outputs": [],
   "source": [
    "import play\n",
    "\n",
    "# SCHRIJF HIER JE CODE\n",
    "\n",
    "play.start_progrma()"
   ]
  },
  {
   "cell_type": "markdown",
   "id": "6eb1fb23",
   "metadata": {},
   "source": [
    "## Wat kan ik aanpassen aan een cirkel?\n",
    "Hierbij de lijst van attributen voor een cirkel:\n",
    "- **color**: staat standaard op 'black'. [Op deze pagina](https://www.pygame.org/docs/ref/color_list.html) zie je welke opties er zijn.\n",
    "- **x**: staat standaard op 0 (het midden). Lager dan 0 is naar links, boven 0 is naar rechts.\n",
    "- **y**: staat standaard op 0 (het midden), Lager dan 0 is naar beneden, boven 0 is naar boven.\n",
    "- **radius**: staat standaard op 100. Hoe groter de waarde, hoe groter de cirkel.\n",
    "- **border_color**: staat standaard op  'light blue'. Let op, als de **border_width** 0 is, zie je de rand niet.\n",
    "- **border_width**: the breedte van de rand. Staat standaard op 0 (geen rand zichtbaar)\n",
    "- **transparency**: 0 --> onzichtbaar. 100 --> volledig zichtbaar.\n",
    "\n",
    "### Opdracht X.X De mooiste cirkel\n",
    "\n",
    "a) Teken twee cirkels die elkaar niet mogen raken. De eerste cirkel is blauw en heeft geen rand. De tweede is rood en heeft een dunne groene rand."
   ]
  },
  {
   "cell_type": "code",
   "execution_count": null,
   "id": "64b9a870",
   "metadata": {},
   "outputs": [],
   "source": [
    "import play \n",
    "\n",
    "# SCHRIJF HIER JE CODE\n",
    "\n",
    "play.start_program()"
   ]
  }
 ],
 "metadata": {
  "jupytext": {
   "cell_metadata_filter": "-all",
   "main_language": "python",
   "notebook_metadata_filter": "-all"
  }
 },
 "nbformat": 4,
 "nbformat_minor": 5
}
