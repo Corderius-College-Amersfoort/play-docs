{
 "cells": [
  {
   "cell_type": "raw",
   "id": "803ddc85",
   "metadata": {},
   "source": [
    "---\n",
    "sidebar_position: 3\n",
    "---"
   ]
  },
  {
   "cell_type": "markdown",
   "id": "305ba8a1",
   "metadata": {},
   "source": [
    "# Je eerste cirkel\n",
    "\n",
    "Tijd om iets op het scherm te tekenen."
   ]
  },
  {
   "cell_type": "code",
   "execution_count": null,
   "id": "789634bc",
   "metadata": {},
   "outputs": [],
   "source": [
    "import play\n",
    "\n",
    "play.new_circle()\n",
    "\n",
    "play.start_program()"
   ]
  },
  {
   "cell_type": "markdown",
   "id": "2832a5bc",
   "metadata": {},
   "source": [
    "Als het goed is, zie je een grote zwarte cirkel op je scherm.\n",
    "Merk op dat we nergens hebben aangegeven:\n",
    "- welke kleur de cirkel moet hebben\n",
    "- hoe groot deze is\n",
    "- ....\n",
    "\n",
    "Dat is toch wel gek. Het programma heeft stiekem voor ons al een paar zaken gekozen.\n",
    "Het is toch wel fijn als we het zelf kunnen veranderen.\n",
    "\n",
    "## De kleur aanpassen\n",
    "We kunnen de kleur aanpassen met het attribuut **color**.\n",
    "Om bijvoorbeeld de cirkel blauw te maken, kun je het volgende doen."
   ]
  },
  {
   "cell_type": "code",
   "execution_count": null,
   "id": "352f5e3b",
   "metadata": {},
   "outputs": [],
   "source": [
    "import play\n",
    "\n",
    "play.new_circle(color='blue')\n",
    "\n",
    "play.start_program()"
   ]
  },
  {
   "cell_type": "markdown",
   "id": "c32c3bad",
   "metadata": {},
   "source": [
    "Ben je benieuwd uit welke kleuren je allemaal kan kiezen? Op [deze pagina](https://www.pygame.org/docs/ref/color_list.html) zie je alle opties.\n",
    "\n",
    "### X.X De kleur aanpassen\n",
    "a) Schrijf een programma waarbij de kleur van de cirkel rood is. "
   ]
  },
  {
   "cell_type": "code",
   "execution_count": null,
   "id": "8528c088",
   "metadata": {},
   "outputs": [],
   "source": [
    "import play\n",
    "\n",
    "# SCHRIJF HIER JE CODE\n",
    "\n",
    "play.start_progrma()"
   ]
  },
  {
   "cell_type": "markdown",
   "id": "57fa2e2a",
   "metadata": {},
   "source": [
    "b) pas het programma aan met een kleur die je gekozen hebt uit de lijst van alle opties\n"
   ]
  },
  {
   "cell_type": "code",
   "execution_count": null,
   "id": "0e5e72f6",
   "metadata": {},
   "outputs": [],
   "source": [
    "import play\n",
    "\n",
    "# SCHRIJF HIER JE CODE\n",
    "\n",
    "play.start_progrma()"
   ]
  },
  {
   "cell_type": "markdown",
   "id": "997a22d5",
   "metadata": {},
   "source": [
    "## De positie aanpassen\n",
    "Je kunt de cirkel ook op een andere plek zetten. Hiervoor gebruik je de **x** (horizontaal) en **y** (verticaal) attributen.\n",
    "Het midden van het scherm is x=0 en y=0."
   ]
  },
  {
   "cell_type": "code",
   "execution_count": null,
   "id": "0961ee52",
   "metadata": {},
   "outputs": [],
   "source": [
    "import play\n",
    "\n",
    "play.new_circle(x=0, y=0)\n",
    "\n",
    "play.start_program()"
   ]
  },
  {
   "cell_type": "markdown",
   "id": "d9eeff56",
   "metadata": {},
   "source": [
    "Zie je de cirkel in het midden staan?\n",
    "\n",
    "### Opdracht X.X: de positie aanpassen\n",
    "\n",
    "Waar zie je cirkel verschijnen bij:\n",
    "\n",
    "a) x=100 en y=0 "
   ]
  },
  {
   "cell_type": "code",
   "execution_count": null,
   "id": "8e04363b",
   "metadata": {},
   "outputs": [],
   "source": [
    "import play\n",
    "\n",
    "# SCHRIJF HIER JE CODE\n",
    "\n",
    "play.start_progrma()"
   ]
  },
  {
   "cell_type": "markdown",
   "id": "cbc0ad8f",
   "metadata": {},
   "source": [
    "b) x=-100 en y=0"
   ]
  },
  {
   "cell_type": "code",
   "execution_count": null,
   "id": "dfbb4d49",
   "metadata": {},
   "outputs": [],
   "source": [
    "import play\n",
    "\n",
    "# SCHRIJF HIER JE CODE\n",
    "\n",
    "play.start_progrma()"
   ]
  },
  {
   "cell_type": "markdown",
   "id": "3b1657c7",
   "metadata": {},
   "source": [
    "c) x=0 en y=100"
   ]
  },
  {
   "cell_type": "code",
   "execution_count": null,
   "id": "8bcce4bd",
   "metadata": {},
   "outputs": [],
   "source": [
    "import play\n",
    "\n",
    "# SCHRIJF HIER JE CODE\n",
    "\n",
    "play.start_progrma()"
   ]
  },
  {
   "cell_type": "markdown",
   "id": "03756f65",
   "metadata": {},
   "source": [
    "d) x=0 en y=-100"
   ]
  },
  {
   "cell_type": "code",
   "execution_count": null,
   "id": "f11dff74",
   "metadata": {},
   "outputs": [],
   "source": [
    "import play\n",
    "\n",
    "# SCHRIJF HIER JE CODE\n",
    "\n",
    "play.start_progrma()"
   ]
  },
  {
   "cell_type": "markdown",
   "id": "60cf361b",
   "metadata": {},
   "source": [
    "## Wat kan ik aanpassen aan een cirkel?\n",
    "Hierbij de lijst van attributen voor een cirkel:\n",
    "- **color**: staat standaard op 'black'. [Op deze pagina](https://www.pygame.org/docs/ref/color_list.html) zie je welke opties er zijn.\n",
    "- **x**: staat standaard op 0 (het midden). Lager dan 0 is naar links, boven 0 is naar rechts.\n",
    "- **y**: staat standaard op 0 (het midden), Lager dan 0 is naar beneden, boven 0 is naar boven.\n",
    "- **radius**: staat standaard op 100. Hoe groter de waarde, hoe groter de cirkel.\n",
    "- **border_color**: staat standaard op  'light blue'. Let op, als de **border_width** 0 is, zie je de rand niet.\n",
    "- **border_width**: the breedte van de rand. Staat standaard op 0 (geen rand zichtbaar)\n",
    "- **transparency**: 0 --> onzichtbaar. 100 --> volledig zichtbaar.\n",
    "\n",
    "### Opdracht X.X De mooiste cirkel\n",
    "\n",
    "a) Teken twee cirkels die elkaar niet mogen raken. De eerste cirkel is blauw en heeft geen rand. De tweede is rood en heeft een dunne groene rand."
   ]
  },
  {
   "cell_type": "code",
   "execution_count": null,
   "id": "f98a77be",
   "metadata": {},
   "outputs": [],
   "source": [
    "import play \n",
    "\n",
    "# SCHRIJF HIER JE CODE\n",
    "\n",
    "play.start_program()"
   ]
  }
 ],
 "metadata": {
  "jupytext": {
   "cell_metadata_filter": "-all",
   "main_language": "python",
   "notebook_metadata_filter": "-all"
  }
 },
 "nbformat": 4,
 "nbformat_minor": 5
}
