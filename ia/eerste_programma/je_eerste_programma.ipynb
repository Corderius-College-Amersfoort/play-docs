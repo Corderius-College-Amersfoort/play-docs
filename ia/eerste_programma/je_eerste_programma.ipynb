{
 "cells": [
  {
   "cell_type": "raw",
   "id": "281d8b51",
   "metadata": {},
   "source": [
    "---\n",
    "sidebar_position: 2\n",
    "---"
   ]
  },
  {
   "cell_type": "markdown",
   "id": "475686b3",
   "metadata": {},
   "source": [
    "# Je eerste programma\n",
    "\n",
    "Nu het importeren gelukt is, is het tijd voor het scherm van je spel"
   ]
  },
  {
   "cell_type": "code",
   "execution_count": null,
   "id": "125f6817",
   "metadata": {},
   "outputs": [],
   "source": [
    "import play\n",
    "\n",
    "play.start_program()"
   ]
  },
  {
   "cell_type": "markdown",
   "id": "7478b80f",
   "metadata": {},
   "source": [
    "Als het goed is, opent er nu een scherm op je computer.\n",
    "**play_start_program()** zorgt er dus voor dat een scherm geopend wordt.\n",
    "Je mag op het kruisje klikken om deze af te sluiten."
   ]
  }
 ],
 "metadata": {
  "jupytext": {
   "cell_metadata_filter": "-all",
   "main_language": "python",
   "notebook_metadata_filter": "-all"
  }
 },
 "nbformat": 4,
 "nbformat_minor": 5
}
