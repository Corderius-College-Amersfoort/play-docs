{
 "cells": [
  {
   "cell_type": "raw",
   "id": "0aee2497",
   "metadata": {},
   "source": [
    "---\n",
    "sidebar_position: 5\n",
    "---"
   ]
  },
  {
   "cell_type": "markdown",
   "id": "56315f23",
   "metadata": {},
   "source": [
    "# Je eerste tekst\n",
    "We missen nog één ding: een tekst. Het is toch wel fijn als onze tekeningen en spellen ook tekst kunnen hebben.\n",
    "\n",
    "Uiteraard is het systeem hetzelfde als bij **play.new_circle** en **play.new_box**.\n",
    "Je kunt voor **play.new_text** kiezen uit:\n",
    "- **words**: de woorden die op het scherm komen te staan\n",
    "- **x**: staat standaard op 0 (het midden). Lager dan 0 is naar links, boven 0 is naar rechts.\n",
    "- **y**: staat standaard op 0 (het midden), Lager dan 0 is naar beneden, boven 0 is naar boven.\n",
    "- **font**: de font van de tekst. Kun je bijvoorbeeld aanpassen naar 'arial'.\n",
    "- **font_size**: de grootte van de font.\n",
    "- **color**: de kleur van de tekst.\n",
    "\n",
    "Hierbij een voorbeeld:"
   ]
  },
  {
   "cell_type": "code",
   "execution_count": null,
   "id": "6fa7d495",
   "metadata": {},
   "outputs": [],
   "source": [
    "import play\n",
    "\n",
    "play.new_text(words='hallo pythonista', font='arial', font_size=30)\n",
    "\n",
    "play.start_program()"
   ]
  },
  {
   "cell_type": "markdown",
   "id": "c35def08",
   "metadata": {},
   "source": [
    "## Opdracht X.X Johan Cruijff\n",
    "\n",
    "Maak onderstaande afbeelding na.\n",
    "\n",
    "![cruijff](cruijff.png)\n",
    "\n",
    "Tips:\n",
    "- het zijn twee **play.new_text** aanroepen\n",
    "- we gebruiken 'arial' als font"
   ]
  },
  {
   "cell_type": "code",
   "execution_count": null,
   "id": "20a48f21",
   "metadata": {
    "lines_to_next_cell": 0
   },
   "outputs": [],
   "source": [
    "import play\n",
    "\n",
    "# PAS ONDERSTAANDE CODE AAN\n",
    "play.new_text(words='Als ik zou willen dat je het begreep,')\n",
    "\n",
    "play.start_program()"
   ]
  },
  {
   "cell_type": "markdown",
   "id": "d8e2bec0",
   "metadata": {},
   "source": [
    "\n",
    "\n",
    "\n",
    "\n",
    "\n"
   ]
  }
 ],
 "metadata": {
  "jupytext": {
   "cell_metadata_filter": "-all",
   "main_language": "python",
   "notebook_metadata_filter": "-all"
  }
 },
 "nbformat": 4,
 "nbformat_minor": 5
}
