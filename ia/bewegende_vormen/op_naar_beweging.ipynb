{
 "cells": [
  {
   "cell_type": "raw",
   "id": "2e92ccf9",
   "metadata": {},
   "source": [
    "---\n",
    "sidebar_position: 1\n",
    "---"
   ]
  },
  {
   "cell_type": "markdown",
   "id": "14655bba",
   "metadata": {},
   "source": [
    "# Op naar beweging\n",
    "\n",
    "Tot nu toe hebben de vormen stilgestaan op je scherm.\n",
    "Op die manier wordt het erg lastig om een spel te programmeren.\n",
    "We hebben beweging nodig! Hiervoor moeten we wel één heel belangrijk iets leren: vormen aanpassen nadat ze gemaakt zijn.\n",
    "\n",
    "Kijk heel kritisch naar het volgende voorbeeld:\n"
   ]
  },
  {
   "cell_type": "code",
   "execution_count": null,
   "id": "23041b3b",
   "metadata": {},
   "outputs": [],
   "source": [
    "import play \n",
    "\n",
    "play.new_circle()\n",
    "\n",
    "play.start_program()"
   ]
  },
  {
   "cell_type": "markdown",
   "id": "9dd17ffe",
   "metadata": {},
   "source": [
    "Hoe kan ik de cirkel veranderen **nadat** deze gemaakt is?\n",
    "Oftwel, kan ik via code na **play.new_circle()** iets veranderen aan de cirkel?\n",
    "\n",
    "## De variabele\n",
    "Het antwoord is heel duidelijk: nee. We hebben een **variabele** nodig die ons toegang geeft tot de cirkel. Kijk maar eens goed naar het onderstaande voorbeeld:\n"
   ]
  },
  {
   "cell_type": "code",
   "execution_count": null,
   "id": "82a45c99",
   "metadata": {},
   "outputs": [],
   "source": [
    "import play \n",
    "\n",
    "cirkel = play.new_circle()\n",
    "cirkel.color = 'blue'\n",
    "\n",
    "play.start_program()"
   ]
  },
  {
   "cell_type": "markdown",
   "id": "70032323",
   "metadata": {},
   "source": [
    "In dit codefragment gebeurt erg veel:\n",
    "- **play.new_circle()**: dit tekent de cirkel op het scherm\n",
    "- **cirkel = play.new_circle()**: dit tekent de cirkel EN zorgt ervoor dat de variabele **cirkel** verwijst naar onze cirkel\n",
    "- **cirkel.color = 'blue'**: dit wijzigt van onze cirkel alleen kleur naar blauw\n",
    "\n",
    "Naast kleur kun je ook de x-positie, y-positie etc. aanpassen. Probeer het maar eens in de volgende opdracht.\n",
    "\n",
    "## Opdracht X.X: je aangepaste cirkel\n",
    "Maak een nieuwe cirkel en pas deze aan:\n",
    "- Verander de kleur naar 'blue' \n",
    "- Verander de x-positie naar 150 \n",
    "- Verander de y-positie naar 200 \n",
    "- Vergroot de cirkel door de 'radius' (straal) aan te passen naar 200"
   ]
  },
  {
   "cell_type": "code",
   "execution_count": null,
   "id": "ebf56338",
   "metadata": {
    "lines_to_next_cell": 0
   },
   "outputs": [],
   "source": [
    "import play \n",
    "\n",
    "cirkel = play.new_circle()\n",
    "# JOUW CODE HIER\n",
    "\n",
    "play.start_program()"
   ]
  },
  {
   "cell_type": "markdown",
   "id": "175c79db",
   "metadata": {},
   "source": [
    "\n"
   ]
  }
 ],
 "metadata": {
  "jupytext": {
   "cell_metadata_filter": "-all",
   "main_language": "python",
   "notebook_metadata_filter": "-all"
  }
 },
 "nbformat": 4,
 "nbformat_minor": 5
}
