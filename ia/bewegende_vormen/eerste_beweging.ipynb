{
 "cells": [
  {
   "cell_type": "raw",
   "id": "b42a36c7",
   "metadata": {},
   "source": [
    "---\n",
    "sidebar_position: 2\n",
    "---"
   ]
  },
  {
   "cell_type": "markdown",
   "id": "a03f9ec5",
   "metadata": {},
   "source": [
    "# Eerste beweging\n",
    "\n",
    "Tijd voor beweging!~\n"
   ]
  },
  {
   "cell_type": "code",
   "execution_count": null,
   "id": "e32fe13c",
   "metadata": {},
   "outputs": [],
   "source": [
    "import play \n",
    "\n",
    "cirkel = play.new_circle()\n",
    "cirkel.start_physics()\n",
    "\n",
    "play.start_program()"
   ]
  },
  {
   "cell_type": "markdown",
   "id": "964d26d3",
   "metadata": {},
   "source": [
    "Wat gebeurt er als je dit codefragment draait?\n",
    "Als je het goed is, zie je bal bewegen.\n",
    "Dit komt door de regel **cirkel.start_physics()**.\n",
    "**play** is nu aan het proberen om natuurkunde na te doen.\n",
    "\n",
    "## Zwaartekracht uit en horizontaal bewegen\n",
    "Laten we de zwaartekracht eens uitzetten en de bal laten bewegen van links naar rechts.\n",
    "Dit kan met de volgende twee attributen:\n",
    "- **obeys_gravity**: True --> zwaartekracht wordt nagedaan, False --> geen zwaartekracht\n",
    "- **x_speed**: hoe hard wil je dat de bal beweegt op de horizontale as? "
   ]
  },
  {
   "cell_type": "code",
   "execution_count": null,
   "id": "0c8b1e92",
   "metadata": {
    "lines_to_next_cell": 0
   },
   "outputs": [],
   "source": [
    "import play\n",
    "\n",
    "cirkel = play.new_circle()\n",
    "cirkel.start_physics(obeys_gravity=False, x_speed=60)\n",
    "\n",
    "play.start_program()"
   ]
  },
  {
   "cell_type": "markdown",
   "id": "d0d8229a",
   "metadata": {},
   "source": [
    "Als het goed is, zie je bal heen en weer bewegen.\n",
    "\n",
    "## Opdracht X.X Windows screensaver\n",
    "Een tijd lang was de Windows screensaver een vormpje dat schuin omhoog bewoog en men was blij als deze precies de hoek raakte.\n",
    "Kun je deze namaken? Tip: gebruik ook **y_speed**."
   ]
  },
  {
   "cell_type": "code",
   "execution_count": null,
   "id": "2cb47daf",
   "metadata": {},
   "outputs": [],
   "source": [
    "import play \n",
    "\n",
    "cirkel = play.new_circle()\n",
    "cirkel.start_physics()\n",
    "\n",
    "play.start_program()"
   ]
  },
  {
   "cell_type": "markdown",
   "id": "e5bb1c2e",
   "metadata": {},
   "source": [
    "## Wat kan ik allemaal aanpassen?\n",
    "Deze drie heb je net geleerd:\n",
    "- **x_speed**: hoe hard wil je dat de bal beweegt op de horizontale as? \n",
    "- **y_speed**: hoe hard wil je dat de bal beweegt op de verticale as? \n",
    "- **obeys_gravity**: True --> zwaartekracht wordt nagedaan, False --> geen zwaartekracht\n",
    "\n",
    "Deze vijf worden later nuttig, maar ze staan er nu voor de compleetheid:\n",
    "- **can_move**: True --> de vorm mag bewegen, False, de vorm staat altijd stil\n",
    "- **stable**: True --> als iets botst tegen de vorm, zal deze niet bewegen, False, de vorm zal bewegen bij een botsing.\n",
    "- **bounciness**: 1.0 vorm kaatst net zo hard terug als dat deze aankwam. 0 --> vorm kaatst niet terug bij botsing\n",
    "- **mass**: hoe 'zwaar' is je vorm? Dit kan snel ingewikkeld worden. Maar je kan je voorstellen dat een botsing anders is tussen twee vormen die even zwaar zijn in plaats van als vormen verschillend gewicht hebben.\n",
    "- **friction**: 0 --> geen frictie (energie blijft behouden).\n",
    "\n",
    "\n"
   ]
  }
 ],
 "metadata": {
  "jupytext": {
   "cell_metadata_filter": "-all",
   "main_language": "python",
   "notebook_metadata_filter": "-all"
  }
 },
 "nbformat": 4,
 "nbformat_minor": 5
}
